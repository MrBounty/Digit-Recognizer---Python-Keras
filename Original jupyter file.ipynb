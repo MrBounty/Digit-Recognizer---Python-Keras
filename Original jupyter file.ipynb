{
 "cells": [
  {
   "cell_type": "code",
   "execution_count": 1,
   "id": "f8954378",
   "metadata": {
    "_cell_guid": "b1076dfc-b9ad-4769-8c92-a6c4dae69d19",
    "_uuid": "8f2839f25d086af736a60e9eeb907d3b93b6e0e5",
    "execution": {
     "iopub.execute_input": "2022-03-15T10:54:53.357117Z",
     "iopub.status.busy": "2022-03-15T10:54:53.355937Z",
     "iopub.status.idle": "2022-03-15T10:54:59.620469Z",
     "shell.execute_reply": "2022-03-15T10:54:59.619530Z",
     "shell.execute_reply.started": "2022-03-15T10:44:02.560346Z"
    },
    "papermill": {
     "duration": 6.27995,
     "end_time": "2022-03-15T10:54:59.620660",
     "exception": false,
     "start_time": "2022-03-15T10:54:53.340710",
     "status": "completed"
    },
    "tags": []
   },
   "outputs": [],
   "source": [
    "import numpy as np\n",
    "import pandas as pd\n",
    "from tensorflow.keras import Input, Model\n",
    "from tensorflow.keras.layers import Dense, Conv2D, MaxPooling2D, Flatten, Dropout\n",
    "from tensorflow.keras.preprocessing.image import ImageDataGenerator"
   ]
  },
  {
   "cell_type": "code",
   "execution_count": 2,
   "id": "1ec7f41f",
   "metadata": {
    "execution": {
     "iopub.execute_input": "2022-03-15T10:54:59.650064Z",
     "iopub.status.busy": "2022-03-15T10:54:59.649426Z",
     "iopub.status.idle": "2022-03-15T10:55:05.668257Z",
     "shell.execute_reply": "2022-03-15T10:55:05.667604Z",
     "shell.execute_reply.started": "2022-03-15T10:44:30.402077Z"
    },
    "papermill": {
     "duration": 6.035044,
     "end_time": "2022-03-15T10:55:05.668406",
     "exception": false,
     "start_time": "2022-03-15T10:54:59.633362",
     "status": "completed"
    },
    "tags": []
   },
   "outputs": [],
   "source": [
    "raw_train = pd.read_csv('data/train.csv')\n",
    "raw_test = pd.read_csv('data/test.csv')\n",
    "raw_train = raw_train.sample(frac=1)"
   ]
  },
  {
   "cell_type": "code",
   "execution_count": 3,
   "id": "f812dd75",
   "metadata": {
    "execution": {
     "iopub.execute_input": "2022-03-15T10:55:05.698315Z",
     "iopub.status.busy": "2022-03-15T10:55:05.697041Z",
     "iopub.status.idle": "2022-03-15T10:55:05.979948Z",
     "shell.execute_reply": "2022-03-15T10:55:05.979360Z",
     "shell.execute_reply.started": "2022-03-15T10:44:41.501219Z"
    },
    "papermill": {
     "duration": 0.301166,
     "end_time": "2022-03-15T10:55:05.980165",
     "exception": false,
     "start_time": "2022-03-15T10:55:05.678999",
     "status": "completed"
    },
    "tags": []
   },
   "outputs": [],
   "source": [
    "## Reshape and transform to numpy\n",
    "x_train = raw_train.to_numpy()[:, 1:]/255\n",
    "y_train = raw_train.to_numpy()[:, 0]\n",
    "x_train = x_train.reshape((42000, 28, 28, 1))\n",
    "x_train = x_train.astype('float32')\n",
    "y_train = y_train.astype('int32')\n",
    "\n",
    "## Separate data\n",
    "x_val = x_train[38000:]\n",
    "y_val = y_train[38000:]\n",
    "x_train = x_train[:38000]\n",
    "y_train = y_train[:38000]\n",
    "\n",
    "x_test = raw_test.to_numpy()/255\n",
    "x_test = x_test.reshape((28000, 28, 28, 1))\n",
    "x_test = x_test.astype('float32')"
   ]
  },
  {
   "cell_type": "code",
   "execution_count": 4,
   "id": "a87415d9",
   "metadata": {
    "execution": {
     "iopub.execute_input": "2022-03-15T10:55:06.012668Z",
     "iopub.status.busy": "2022-03-15T10:55:06.011983Z",
     "iopub.status.idle": "2022-03-15T10:55:06.015372Z",
     "shell.execute_reply": "2022-03-15T10:55:06.015847Z",
     "shell.execute_reply.started": "2022-03-15T10:44:45.993532Z"
    },
    "papermill": {
     "duration": 0.020707,
     "end_time": "2022-03-15T10:55:06.016031",
     "exception": false,
     "start_time": "2022-03-15T10:55:05.995324",
     "status": "completed"
    },
    "tags": []
   },
   "outputs": [],
   "source": [
    "gen =ImageDataGenerator(rotation_range=8, width_shift_range=0.08, shear_range=0.3, height_shift_range=0.08, zoom_range=0.08)\n",
    "batches = gen.flow(x_train, y_train, batch_size=32)\n",
    "val_batches = gen.flow(x_val, y_val, batch_size=32)"
   ]
  },
  {
   "cell_type": "code",
   "execution_count": 5,
   "id": "d2d8ed6c",
   "metadata": {
    "execution": {
     "iopub.execute_input": "2022-03-15T10:55:06.045102Z",
     "iopub.status.busy": "2022-03-15T10:55:06.044440Z",
     "iopub.status.idle": "2022-03-15T10:55:06.198921Z",
     "shell.execute_reply": "2022-03-15T10:55:06.199926Z",
     "shell.execute_reply.started": "2022-03-15T10:44:48.470807Z"
    },
    "papermill": {
     "duration": 0.173572,
     "end_time": "2022-03-15T10:55:06.200237",
     "exception": false,
     "start_time": "2022-03-15T10:55:06.026665",
     "status": "completed"
    },
    "tags": []
   },
   "outputs": [],
   "source": [
    "input_tensor = Input(shape=(28, 28, 1))\n",
    "x = Conv2D(32, (3, 3), activation='relu')(input_tensor)\n",
    "x = Conv2D(64, (3, 3), activation='relu')(x)\n",
    "x = MaxPooling2D((2, 2))(x)\n",
    "x = Dropout(0.25)(x)\n",
    "x = Flatten()(x)\n",
    "x = Dense(128, activation='relu')(x)\n",
    "x = Dropout(0.5)(x)\n",
    "output_tensor = Dense(10, activation='softmax')(x)\n",
    "\n",
    "model = Model(inputs=input_tensor, outputs=output_tensor)"
   ]
  },
  {
   "cell_type": "code",
   "execution_count": 12,
   "id": "6bc742ad",
   "metadata": {
    "execution": {
     "iopub.execute_input": "2022-03-15T10:55:06.227463Z",
     "iopub.status.busy": "2022-03-15T10:55:06.226805Z",
     "iopub.status.idle": "2022-03-15T11:00:34.608360Z",
     "shell.execute_reply": "2022-03-15T11:00:34.607712Z",
     "shell.execute_reply.started": "2022-03-15T10:45:01.740057Z"
    },
    "papermill": {
     "duration": 328.3957,
     "end_time": "2022-03-15T11:00:34.608526",
     "exception": false,
     "start_time": "2022-03-15T10:55:06.212826",
     "status": "completed"
    },
    "tags": []
   },
   "outputs": [
    {
     "name": "stdout",
     "output_type": "stream",
     "text": [
      "Epoch 1/10\n"
     ]
    },
    {
     "name": "stderr",
     "output_type": "stream",
     "text": [
      "C:\\Users\\Adrien.Bouvais\\AppData\\Local\\Temp\\ipykernel_44608\\1354676553.py:2: UserWarning: `Model.fit_generator` is deprecated and will be removed in a future version. Please use `Model.fit`, which supports generators.\n"
     ]
    },
    {
     "name": "stdout",
     "output_type": "stream",
     "text": [
      "395/395 [==============================] - 14s 33ms/step - loss: 0.1206 - accuracy: 0.9657 - val_loss: 0.0655 - val_accuracy: 0.9809\n",
      "Epoch 2/10\n",
      "395/395 [==============================] - 14s 34ms/step - loss: 0.1035 - accuracy: 0.9698 - val_loss: 0.0444 - val_accuracy: 0.9855\n",
      "Epoch 3/10\n",
      "395/395 [==============================] - 14s 35ms/step - loss: 0.1069 - accuracy: 0.9682 - val_loss: 0.0517 - val_accuracy: 0.9855\n",
      "Epoch 4/10\n",
      "395/395 [==============================] - 13s 34ms/step - loss: 0.1020 - accuracy: 0.9707 - val_loss: 0.0493 - val_accuracy: 0.9840\n",
      "Epoch 5/10\n",
      "395/395 [==============================] - 13s 34ms/step - loss: 0.0981 - accuracy: 0.9713 - val_loss: 0.0266 - val_accuracy: 0.9893\n",
      "Epoch 6/10\n",
      "395/395 [==============================] - 14s 35ms/step - loss: 0.0909 - accuracy: 0.9714 - val_loss: 0.0690 - val_accuracy: 0.9809\n",
      "Epoch 7/10\n",
      "395/395 [==============================] - 14s 36ms/step - loss: 0.0875 - accuracy: 0.9731 - val_loss: 0.0398 - val_accuracy: 0.9855\n",
      "Epoch 8/10\n",
      "395/395 [==============================] - 15s 38ms/step - loss: 0.0905 - accuracy: 0.9729 - val_loss: 0.0361 - val_accuracy: 0.9886\n",
      "Epoch 9/10\n",
      "395/395 [==============================] - 17s 44ms/step - loss: 0.0924 - accuracy: 0.9723 - val_loss: 0.0559 - val_accuracy: 0.9825\n",
      "Epoch 10/10\n",
      "395/395 [==============================] - 18s 46ms/step - loss: 0.0855 - accuracy: 0.9735 - val_loss: 0.0510 - val_accuracy: 0.9825\n"
     ]
    }
   ],
   "source": [
    "model.compile(optimizer='adam', loss='sparse_categorical_crossentropy', metrics=['accuracy'])\n",
    "history = model.fit_generator(generator=batches, steps_per_epoch=len(x_train)//(32*3), validation_data=val_batches, validation_steps=len(x_val)//(32*3), epochs=10)"
   ]
  },
  {
   "cell_type": "code",
   "execution_count": 13,
   "id": "5efb4391",
   "metadata": {
    "execution": {
     "iopub.execute_input": "2022-03-15T11:00:36.426315Z",
     "iopub.status.busy": "2022-03-15T11:00:36.421351Z",
     "iopub.status.idle": "2022-03-15T11:00:44.456113Z",
     "shell.execute_reply": "2022-03-15T11:00:44.455385Z",
     "shell.execute_reply.started": "2022-03-15T10:53:16.006637Z"
    },
    "papermill": {
     "duration": 8.942825,
     "end_time": "2022-03-15T11:00:44.456275",
     "exception": false,
     "start_time": "2022-03-15T11:00:35.513450",
     "status": "completed"
    },
    "tags": []
   },
   "outputs": [
    {
     "name": "stdout",
     "output_type": "stream",
     "text": [
      "875/875 [==============================] - 6s 7ms/step\n"
     ]
    }
   ],
   "source": [
    "results = model.predict(x_test)\n",
    "sub = []\n",
    "i=1\n",
    "for line in results:\n",
    "    sub.append([i, np.argmax(results[i-1, :])])\n",
    "    i+=1\n",
    "\n",
    "df = pd.DataFrame(sub, columns=['ImageId', 'Label'])\n",
    "df.to_csv('submission.csv', index=False)"
   ]
  },
  {
   "cell_type": "code",
   "execution_count": 15,
   "id": "f9307368",
   "metadata": {
    "execution": {
     "iopub.execute_input": "2022-03-15T11:00:46.305153Z",
     "iopub.status.busy": "2022-03-15T11:00:46.302150Z",
     "iopub.status.idle": "2022-03-15T11:00:49.649526Z",
     "shell.execute_reply": "2022-03-15T11:00:49.650484Z",
     "shell.execute_reply.started": "2022-03-15T10:52:55.459245Z"
    },
    "papermill": {
     "duration": 4.257973,
     "end_time": "2022-03-15T11:00:49.650820",
     "exception": false,
     "start_time": "2022-03-15T11:00:45.392847",
     "status": "completed"
    },
    "tags": []
   },
   "outputs": [
    {
     "data": {
      "image/png": "[encoded data removed]",
      "text/plain": [
       "<Figure size 640x480 with 1 Axes>"
      ]
     },
     "metadata": {},
     "output_type": "display_data"
    },
    {
     "data": {
      "text/plain": [
       "<ggplot: (153479162877)>"
      ]
     },
     "execution_count": 15,
     "metadata": {},
     "output_type": "execute_result"
    }
   ],
   "source": [
    "from plotnine import ggplot, geom_line, geom_point, aes\n",
    "hist_df = pd.DataFrame(history.history)\n",
    "hist_df.insert(0, 'Epoch', range(1, 11))\n",
    "\n",
    "(\n",
    "ggplot(hist_df, aes(x='Epoch'))\n",
    "    + geom_line(aes(y='loss'), color='red')\n",
    "    + geom_line(aes(y='val_loss'), color='blue')\n",
    ")"
   ]
  },
  {
   "cell_type": "code",
   "execution_count": 18,
   "id": "71d8f35b",
   "metadata": {
    "execution": {
     "iopub.execute_input": "2022-03-15T11:00:51.569523Z",
     "iopub.status.busy": "2022-03-15T11:00:51.568775Z",
     "iopub.status.idle": "2022-03-15T11:00:51.889539Z",
     "shell.execute_reply": "2022-03-15T11:00:51.890424Z",
     "shell.execute_reply.started": "2022-03-15T10:53:02.523412Z"
    },
    "papermill": {
     "duration": 1.301366,
     "end_time": "2022-03-15T11:00:51.890714",
     "exception": false,
     "start_time": "2022-03-15T11:00:50.589348",
     "status": "completed"
    },
    "tags": []
   },
   "outputs": [
    {
     "data": {
      "image/png": "[encoded data removed]",
      "text/plain": [
       "<Figure size 640x480 with 1 Axes>"
      ]
     },
     "metadata": {},
     "output_type": "display_data"
    },
    {
     "data": {
      "text/plain": [
       "<ggplot: (153434920207)>"
      ]
     },
     "execution_count": 18,
     "metadata": {},
     "output_type": "execute_result"
    }
   ],
   "source": [
    "(\n",
    "ggplot(hist_df, aes(x='Epoch'))\n",
    "    + geom_line(aes(y='accuracy'), color='red')\n",
    "    + geom_line(aes(y='val_accuracy'), color='blue')\n",
    ")"
   ]
  }
 ],
 "metadata": {
  "kernelspec": {
   "display_name": "Python 3.10.7 64-bit (microsoft store)",
   "language": "python",
   "name": "python3"
  },
  "language_info": {
   "codemirror_mode": {
    "name": "ipython",
    "version": 3
   },
   "file_extension": ".py",
   "mimetype": "text/x-python",
   "name": "python",
   "nbconvert_exporter": "python",
   "pygments_lexer": "ipython3",
   "version": "3.10.7"
  },
  "papermill": {
   "default_parameters": {},
   "duration": 372.052728,
   "end_time": "2022-03-15T11:00:55.437201",
   "environment_variables": {},
   "exception": null,
   "input_path": "__notebook__.ipynb",
   "output_path": "__notebook__.ipynb",
   "parameters": {},
   "start_time": "2022-03-15T10:54:43.384473",
   "version": "2.3.3"
  },
  "vscode": {
   "interpreter": {
    "hash": "3b27cb8e350ea393b19d7750aad3401eb4ea00de4468aca5247ed72fb0b73ab3"
   }
  }
 },
 "nbformat": 4,
 "nbformat_minor": 5
}
